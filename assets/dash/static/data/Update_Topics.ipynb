{
 "cells": [
  {
   "cell_type": "code",
   "execution_count": 17,
   "metadata": {
    "collapsed": true
   },
   "outputs": [],
   "source": [
    "import pandas as pd"
   ]
  },
  {
   "cell_type": "code",
   "execution_count": 18,
   "metadata": {
    "collapsed": true
   },
   "outputs": [],
   "source": [
    "df = pd.read_csv('m2_doctopic.csv')"
   ]
  },
  {
   "cell_type": "code",
   "execution_count": 19,
   "metadata": {
    "collapsed": false
   },
   "outputs": [
    {
     "data": {
      "text/html": [
       "<div>\n",
       "<table border=\"1\" class=\"dataframe\">\n",
       "  <thead>\n",
       "    <tr style=\"text-align: right;\">\n",
       "      <th></th>\n",
       "      <th>id</th>\n",
       "      <th>doc_datetime</th>\n",
       "      <th>frm</th>\n",
       "      <th>to</th>\n",
       "      <th>ocfrm</th>\n",
       "      <th>octo</th>\n",
       "      <th>topic_id</th>\n",
       "      <th>topic_name</th>\n",
       "    </tr>\n",
       "  </thead>\n",
       "  <tbody>\n",
       "    <tr>\n",
       "      <th>0</th>\n",
       "      <td>344</td>\n",
       "      <td>2000-09-05</td>\n",
       "      <td>john.arnold@enron.com</td>\n",
       "      <td>cliff.baxter@enron.com</td>\n",
       "      <td>O</td>\n",
       "      <td>S</td>\n",
       "      <td>14</td>\n",
       "      <td>Gossip &amp; casual conversation</td>\n",
       "    </tr>\n",
       "    <tr>\n",
       "      <th>1</th>\n",
       "      <td>535</td>\n",
       "      <td>2000-09-05</td>\n",
       "      <td>john.arnold@enron.com</td>\n",
       "      <td>cliff.baxter@enron.com</td>\n",
       "      <td>O</td>\n",
       "      <td>S</td>\n",
       "      <td>14</td>\n",
       "      <td>Gossip &amp; casual conversation</td>\n",
       "    </tr>\n",
       "    <tr>\n",
       "      <th>2</th>\n",
       "      <td>727</td>\n",
       "      <td>2000-09-05</td>\n",
       "      <td>john.arnold@enron.com</td>\n",
       "      <td>cliff.baxter@enron.com</td>\n",
       "      <td>O</td>\n",
       "      <td>S</td>\n",
       "      <td>14</td>\n",
       "      <td>Gossip &amp; casual conversation</td>\n",
       "    </tr>\n",
       "    <tr>\n",
       "      <th>3</th>\n",
       "      <td>763</td>\n",
       "      <td>2000-09-05</td>\n",
       "      <td>john.arnold@enron.com</td>\n",
       "      <td>cliff.baxter@enron.com</td>\n",
       "      <td>O</td>\n",
       "      <td>S</td>\n",
       "      <td>14</td>\n",
       "      <td>Gossip &amp; casual conversation</td>\n",
       "    </tr>\n",
       "    <tr>\n",
       "      <th>4</th>\n",
       "      <td>2420</td>\n",
       "      <td>2000-08-10</td>\n",
       "      <td>sally.beck@enron.com</td>\n",
       "      <td>richard.causey@enron.com</td>\n",
       "      <td>O</td>\n",
       "      <td>S</td>\n",
       "      <td>14</td>\n",
       "      <td>Gossip &amp; casual conversation</td>\n",
       "    </tr>\n",
       "  </tbody>\n",
       "</table>\n",
       "</div>"
      ],
      "text/plain": [
       "     id doc_datetime                    frm                        to ocfrm  \\\n",
       "0   344   2000-09-05  john.arnold@enron.com    cliff.baxter@enron.com     O   \n",
       "1   535   2000-09-05  john.arnold@enron.com    cliff.baxter@enron.com     O   \n",
       "2   727   2000-09-05  john.arnold@enron.com    cliff.baxter@enron.com     O   \n",
       "3   763   2000-09-05  john.arnold@enron.com    cliff.baxter@enron.com     O   \n",
       "4  2420   2000-08-10   sally.beck@enron.com  richard.causey@enron.com     O   \n",
       "\n",
       "  octo  topic_id                    topic_name  \n",
       "0    S        14  Gossip & casual conversation  \n",
       "1    S        14  Gossip & casual conversation  \n",
       "2    S        14  Gossip & casual conversation  \n",
       "3    S        14  Gossip & casual conversation  \n",
       "4    S        14  Gossip & casual conversation  "
      ]
     },
     "execution_count": 19,
     "metadata": {},
     "output_type": "execute_result"
    }
   ],
   "source": [
    "df.head()"
   ]
  },
  {
   "cell_type": "code",
   "execution_count": 20,
   "metadata": {
    "collapsed": false
   },
   "outputs": [
    {
     "data": {
      "text/plain": [
       "topic_id  topic_name                        \n",
       "3         Gossip & casual conversation           548\n",
       "7         Financial conversation                  67\n",
       "11        Energy trading                          24\n",
       "12        Financials                             648\n",
       "14        Gossip & casual conversation          2492\n",
       "16        Energy regulation                      124\n",
       "21        Politics                               104\n",
       "22        Funding                                248\n",
       "23        Energy trading & distribution          192\n",
       "24        Energy supply                          257\n",
       "27        Energy exploration & investment        164\n",
       "28        Legal documentation                    110\n",
       "29        Legislation, regulation & lobbying     222\n",
       "31        Litigation                             347\n",
       "32        Trading                                164\n",
       "34        Judicial system                         24\n",
       "41        Business planning                      583\n",
       "43        Legal documentation                   1655\n",
       "45        Education                               71\n",
       "47        Travel                                 133\n",
       "48        Legal documentation                    351\n",
       "dtype: int64"
      ]
     },
     "execution_count": 20,
     "metadata": {},
     "output_type": "execute_result"
    }
   ],
   "source": [
    "df.groupby(['topic_id','topic_name']).size()"
   ]
  },
  {
   "cell_type": "code",
   "execution_count": 21,
   "metadata": {
    "collapsed": false
   },
   "outputs": [
    {
     "name": "stderr",
     "output_type": "stream",
     "text": [
      "/home/mick/anaconda2/lib/python2.7/site-packages/ipykernel/__main__.py:1: SettingWithCopyWarning: \n",
      "A value is trying to be set on a copy of a slice from a DataFrame\n",
      "\n",
      "See the caveats in the documentation: http://pandas.pydata.org/pandas-docs/stable/indexing.html#indexing-view-versus-copy\n",
      "  if __name__ == '__main__':\n"
     ]
    }
   ],
   "source": [
    "df.topic_name[df.topic_id == 3] = 'Casual Conversation'"
   ]
  },
  {
   "cell_type": "code",
   "execution_count": 22,
   "metadata": {
    "collapsed": false
   },
   "outputs": [
    {
     "data": {
      "text/plain": [
       "topic_id  topic_name                        \n",
       "3         Casual Conversation                    548\n",
       "7         Financial conversation                  67\n",
       "11        Energy trading                          24\n",
       "12        Financials                             648\n",
       "14        Gossip & casual conversation          2492\n",
       "16        Energy regulation                      124\n",
       "21        Politics                               104\n",
       "22        Funding                                248\n",
       "23        Energy trading & distribution          192\n",
       "24        Energy supply                          257\n",
       "27        Energy exploration & investment        164\n",
       "28        Legal documentation                    110\n",
       "29        Legislation, regulation & lobbying     222\n",
       "31        Litigation                             347\n",
       "32        Trading                                164\n",
       "34        Judicial system                         24\n",
       "41        Business planning                      583\n",
       "43        Legal documentation                   1655\n",
       "45        Education                               71\n",
       "47        Travel                                 133\n",
       "48        Legal documentation                    351\n",
       "dtype: int64"
      ]
     },
     "execution_count": 22,
     "metadata": {},
     "output_type": "execute_result"
    }
   ],
   "source": [
    "df.groupby(['topic_id','topic_name']).size()"
   ]
  },
  {
   "cell_type": "code",
   "execution_count": 23,
   "metadata": {
    "collapsed": false
   },
   "outputs": [
    {
     "name": "stderr",
     "output_type": "stream",
     "text": [
      "/home/mick/anaconda2/lib/python2.7/site-packages/ipykernel/__main__.py:1: SettingWithCopyWarning: \n",
      "A value is trying to be set on a copy of a slice from a DataFrame\n",
      "\n",
      "See the caveats in the documentation: http://pandas.pydata.org/pandas-docs/stable/indexing.html#indexing-view-versus-copy\n",
      "  if __name__ == '__main__':\n"
     ]
    }
   ],
   "source": [
    "df.topic_name[df.topic_id == 14] = 'Gossip'"
   ]
  },
  {
   "cell_type": "code",
   "execution_count": 24,
   "metadata": {
    "collapsed": true
   },
   "outputs": [],
   "source": [
    "df.to_csv('m2_doctopic_1.csv')"
   ]
  },
  {
   "cell_type": "code",
   "execution_count": 25,
   "metadata": {
    "collapsed": false
   },
   "outputs": [],
   "source": [
    "df2 = df[df.topic_id < 25]\n",
    "df2.to_csv('m2_doctopic_2.csv')"
   ]
  },
  {
   "cell_type": "code",
   "execution_count": null,
   "metadata": {
    "collapsed": true
   },
   "outputs": [],
   "source": []
  }
 ],
 "metadata": {
  "kernelspec": {
   "display_name": "Python 2",
   "language": "python",
   "name": "python2"
  },
  "language_info": {
   "codemirror_mode": {
    "name": "ipython",
    "version": 2
   },
   "file_extension": ".py",
   "mimetype": "text/x-python",
   "name": "python",
   "nbconvert_exporter": "python",
   "pygments_lexer": "ipython2",
   "version": "2.7.11"
  }
 },
 "nbformat": 4,
 "nbformat_minor": 0
}
